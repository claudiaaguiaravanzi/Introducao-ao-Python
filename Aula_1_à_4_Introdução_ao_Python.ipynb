{
  "nbformat": 4,
  "nbformat_minor": 0,
  "metadata": {
    "colab": {
      "provenance": [],
      "toc_visible": true
    },
    "kernelspec": {
      "name": "python3",
      "display_name": "Python 3"
    },
    "language_info": {
      "name": "python"
    }
  },
  "cells": [
    {
      "cell_type": "code",
      "execution_count": null,
      "metadata": {
        "id": "H0WY3e88hCeU"
      },
      "outputs": [],
      "source": []
    },
    {
      "cell_type": "markdown",
      "source": [
        "AULA 1: INTRODUÇÃO AO GOOGLE COLAB\n"
      ],
      "metadata": {
        "id": "aaq7Yo2ZhLaG"
      }
    },
    {
      "cell_type": "code",
      "source": [
        "print(\"I Primeira competição de programação da Start\")\n"
      ],
      "metadata": {
        "colab": {
          "base_uri": "https://localhost:8080/",
          "height": 0
        },
        "id": "3AuW6bx1hsu6",
        "outputId": "8f005734-cf28-49b2-eca0-ff14ece96a21"
      },
      "execution_count": 5,
      "outputs": [
        {
          "output_type": "stream",
          "name": "stdout",
          "text": [
            "I Primeira competição de programação da Start\n"
          ]
        }
      ]
    },
    {
      "cell_type": "code",
      "source": [
        "ano=\"II\""
      ],
      "metadata": {
        "id": "M3p6qgtuiHYA"
      },
      "execution_count": 3,
      "outputs": []
    },
    {
      "cell_type": "code",
      "source": [
        "print(ano, \"Competição de Programação de Estática\")"
      ],
      "metadata": {
        "colab": {
          "base_uri": "https://localhost:8080/",
          "height": 0
        },
        "id": "86eIDYAniTD8",
        "outputId": "a1351192-17a3-40be-e624-922eb00fd8c8"
      },
      "execution_count": 4,
      "outputs": [
        {
          "output_type": "stream",
          "name": "stdout",
          "text": [
            "II Competição de Programação de Estática\n"
          ]
        }
      ]
    },
    {
      "cell_type": "code",
      "source": [
        "print(f\"{ano} Competição de Programação da Start\")"
      ],
      "metadata": {
        "colab": {
          "base_uri": "https://localhost:8080/",
          "height": 0
        },
        "id": "9C7ebKlCjaBB",
        "outputId": "bca26de9-e929-48fd-aad5-76be6fa2f357"
      },
      "execution_count": 6,
      "outputs": [
        {
          "output_type": "stream",
          "name": "stdout",
          "text": [
            "II Competição de Programação da Start\n"
          ]
        }
      ]
    },
    {
      "cell_type": "markdown",
      "source": [
        "AULA 2: CALCULANDO PONTOS\n",
        "\n",
        "**Contexto:**\n",
        "\n",
        "Uma escola está promovendo uma campanha de incentivo à leitura, em que cada estudante recebe pontos ao concluir livros. Esses pontos podem ser trocados por diferentes premios da escola. As categorias de livros têm valores de pontos diferentes:\n",
        "\n",
        "* Livro de ficção: 10 pontos\n",
        "* Livro de não-ficção: 8 pontos\n",
        "* Livro infantil: 6 pontos\n",
        "\n",
        "**Problema:**\n",
        "\n",
        "Rodrigo leu um livro de cada categoria. Agora ele quer saber quantos pontos acumulou com sua leitura.\n",
        "\n",
        "Nosso objetivo é criar um programa em Python que:\n",
        "\n",
        "* Armazene a pontuação de cada categoria de livro em uma variável.\n",
        "* Calcule o total de pontos acumulados por Rodrigo.\n",
        "* Mostre na tela o total de pontos acumulados por Rodrigo."
      ],
      "metadata": {
        "id": "v0xm0bGdjkZW"
      }
    },
    {
      "cell_type": "code",
      "source": [
        "livro_ficcao = 10\n",
        "livro_nficcao = 8\n",
        "livro_infantil = 6\n",
        "\n",
        "pontos_rodrigo = livro_ficcao + livro_nficcao + livro_infantil\n",
        "\n",
        "print(f\"Os pontos totais do Rodrigo são: {pontos_rodrigo}\")"
      ],
      "metadata": {
        "colab": {
          "base_uri": "https://localhost:8080/",
          "height": 0
        },
        "id": "UBOW9JRmkSNp",
        "outputId": "4ebfe3f1-1656-4556-94bf-c17cf89b1f38"
      },
      "execution_count": 7,
      "outputs": [
        {
          "output_type": "stream",
          "name": "stdout",
          "text": [
            "Os pontos totais do Rodrigo são: 24\n"
          ]
        }
      ]
    },
    {
      "cell_type": "markdown",
      "source": [
        "AULA 3: DISTRIBUINDO ÍTENS\n",
        "\n",
        "Divisão do tesouro: https://olimpiada.ic.unicamp.br/passadas/OBI2020/fase1/programacao-b/\n",
        "\n",
        "A turma do 2º ano encontrou um envelope cheio de figurinhas. Para garantir uma divisão justa, todos concordaram com a sugestão de João, o dono do envelope:\n",
        "\n",
        "Cada amigo, exceto João, deve receber exatamente o mesmo número de figurinhas. João deve receber o dobro da quantidade que cada amigo recebe. Pode ser que o fato de João ser o dono do envelope tenha ajudado a convencer os amigos, mas também contribuiu o fato de que, do jeito proposto, a divisão era exata, sem sobrar nem faltar figurinhas.\n",
        "\n",
        "**Problema:**\n",
        "\n",
        "Crie um programa que determine a quantidade de figurinhas que João recebeu, dado o número total de figurinhas no envelope e o número de amigos de João.\n",
        "\n",
        "**Entrada:**\n",
        "\n",
        "* A primeira linha contém um número inteiro `total_figurinhas`, que representa o número de figurinhas no envelope.\n",
        "* A segunda linha contém um número inteiro `numero_amigos`, que representa a quantidade de amigos de João (excluindo o próprio João)."
      ],
      "metadata": {
        "id": "ePCvqTe_kmXA"
      }
    },
    {
      "cell_type": "code",
      "source": [
        "total_figurinhas = int(input(\"Digite o total de figurinhas: \"))\n",
        "numero_amigos = int(input(\"Digite o número de amigos: \"))\n",
        "\n",
        "figurinhas_amigos = total_figurinhas // (numero_amigos + 2)\n",
        "figurinhas_joao = 2 * figurinhas_amigos\n",
        "\n",
        "print(f\"João recebeu {figurinhas_joao} figurinhas.\")"
      ],
      "metadata": {
        "colab": {
          "base_uri": "https://localhost:8080/",
          "height": 0
        },
        "id": "yDvyeqP_lAzf",
        "outputId": "55860c2e-5861-4e72-bf29-b07cc6757e31"
      },
      "execution_count": 8,
      "outputs": [
        {
          "output_type": "stream",
          "name": "stdout",
          "text": [
            "Digite o total de figurinhas: 28\n",
            "Digite o número de amigos: 4\n",
            "João recebeu 8 figurinhas.\n"
          ]
        }
      ]
    },
    {
      "cell_type": "markdown",
      "source": [
        "AULA 4: USANDO CONDICIONAIS\n",
        "\n",
        "Bondinho - link: https://olimpiada.ic.unicamp.br/pratique/pj/2017/f1/bondinho/\n",
        "\n",
        "\n",
        "A turma de um colégio está organizando uma excursão para a serra e, para chegar ao pico da montanha, todos os alunos e monitores devem usar um bondinho. No entanto, a cabine do bondinho tem uma capacidade máxima de 50 pessoas por viagem.\n",
        "\n",
        "Você precisa criar um programa que verifique se todos os alunos e monitores podem ser transportados em apenas uma viagem.\n",
        "\n",
        "**Entrada**\n",
        "\n",
        "* Um número inteiro `numero_alunos`, representando a quantidade de alunos na excursão.\n",
        "* Um número inteiro `numero_monitores`, representando a quantidade de monitores na excursão."
      ],
      "metadata": {
        "id": "vuIpr9YOldZ-"
      }
    },
    {
      "cell_type": "code",
      "source": [
        "numero_alunos = int(input(\"Digite a quantidade de alunos: \"))\n",
        "numero_monitores = int(input(\"Digite a quantidade de monitores: \"))\n",
        "resposta_positiva = \"Pode ir\"\n",
        "resposta_negativa = \"Não pode ir\"\n",
        "\n",
        "if numero_alunos + numero_monitores <= 50:\n",
        "  print(resposta_positiva)\n",
        "else:\n",
        "  print(resposta_negativa)"
      ],
      "metadata": {
        "colab": {
          "base_uri": "https://localhost:8080/",
          "height": 0
        },
        "id": "l9Gvepbml9KR",
        "outputId": "fad3f730-9859-4cef-c5c1-a6e45feb94eb"
      },
      "execution_count": 9,
      "outputs": [
        {
          "output_type": "stream",
          "name": "stdout",
          "text": [
            "Digite a quantidade de alunos: 6\n",
            "Digite a quantidade de monitores: 2\n",
            "Pode ir\n"
          ]
        }
      ]
    },
    {
      "cell_type": "markdown",
      "source": [
        "**DESAFIO**\n",
        "Agora, imagine que infelizmente o bondinho que carrega 50 pessoas está em manutenção e agora todo mundo vai precisar usar um bondinho menos sofisticado e ele só pode levar 30 pessoas. Além disso, 8 professores do colégio também vão participar da excursão. Como fazemos para garantir que o número total de pessoas no bondinho (alunos, monitores e professores) não ultrapasse a capacidade máxima de 30 pessoas?\n",
        "\n",
        "Seu desafio é escrever um programa que verifique se é possível ou não levar todos em apenas uma viagem."
      ],
      "metadata": {
        "id": "eZPnCfVWmdge"
      }
    },
    {
      "cell_type": "code",
      "source": [
        "# Solicita o número de alunos e monitores\n",
        "numero_alunos = int(input(\"Digite a quantidade de alunos: \"))\n",
        "numero_monitores = int(input(\"Digite a quantidade de monitores: \"))\n",
        "\n",
        "# Número fixo de professores\n",
        "numero_professores = 8\n",
        "\n",
        "# Capacidade máxima do novo bondinho\n",
        "capacidade_maxima = 30\n",
        "\n",
        "# Mensagens de resposta\n",
        "resposta_positiva = \"Pode ir\"\n",
        "resposta_negativa = \"Não pode ir\"\n",
        "\n",
        "# Soma total de pessoas\n",
        "total_pessoas = numero_alunos + numero_monitores + numero_professores\n",
        "\n",
        "# Verifica se o total é menor ou igual à capacidade\n",
        "if total_pessoas <= capacidade_maxima:\n",
        "    print(resposta_positiva)\n",
        "else:\n",
        "    print(resposta_negativa)\n"
      ],
      "metadata": {
        "colab": {
          "base_uri": "https://localhost:8080/",
          "height": 0
        },
        "id": "1bLk3Ah-m3xp",
        "outputId": "1fbbf8f4-55ac-49e8-fd5b-d9c12de43edc"
      },
      "execution_count": 10,
      "outputs": [
        {
          "output_type": "stream",
          "name": "stdout",
          "text": [
            "Digite a quantidade de alunos: 25\n",
            "Digite a quantidade de monitores: 4\n",
            "Não pode ir\n"
          ]
        }
      ]
    }
  ]
}